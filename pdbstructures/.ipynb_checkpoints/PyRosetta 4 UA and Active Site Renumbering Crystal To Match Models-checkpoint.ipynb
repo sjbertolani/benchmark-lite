{
 "cells": [
  {
   "cell_type": "code",
   "execution_count": 24,
   "metadata": {
    "collapsed": false,
    "deletable": true,
    "editable": true
   },
   "outputs": [
    {
     "name": "stdout",
     "output_type": "stream",
     "text": [
      "Found rosetta database at: /home/steve/anaconda/envs/DebugPyRosetta/lib/python2.7/site-packages/pyrosetta-4.0-py2.7.egg/database; using it....\n",
      "PyRosetta-4 2016 [Rosetta 2016 unknown:40ccfaf8273337b4eb91cd59f05ccbfceef78c87 2016-08-30 16:18:01 -0500] retrieved from: git@github.com:RosettaCommons/main.git\n",
      "(C) Copyright Rosetta Commons Member Institutions.\n",
      "Created in JHU by Sergey Lyskov and PyRosetta Team.\n",
      "\n"
     ]
    }
   ],
   "source": [
    "import rosetta\n",
    "import pyrosetta\n",
    "pyrosetta.init('-ignore_unrecognized_res T -prevent_repacking T -remember_unrecognized_res T')"
   ]
  },
  {
   "cell_type": "code",
   "execution_count": 40,
   "metadata": {
    "collapsed": true,
    "deletable": true,
    "editable": true
   },
   "outputs": [],
   "source": [
    "p = pyrosetta.pose_from_file('1w6y.pdb.clean')"
   ]
  },
  {
   "cell_type": "code",
   "execution_count": 41,
   "metadata": {
    "collapsed": false,
    "deletable": true,
    "editable": true,
    "scrolled": true
   },
   "outputs": [
    {
     "name": "stdout",
     "output_type": "stream",
     "text": [
      "PDB file name: 1w6y.pdb.clean\n",
      "Total residues:125\n",
      "Sequence: NLPTAQEVQGLMARYIELVDVGDIEAIVQMYADDATVEDPFGQPPIHGREQIAAFYRQGLGGKVRACLTGPVRASHNGCGAMPFRVEMVANGQPCALDVIDVMRFDEHGRIQTMQAYWSEVNLSV\n",
      "Fold tree:\n",
      "FOLD_TREE  EDGE 1 62 -1  EDGE 1 63 1  EDGE 63 125 -1 \n"
     ]
    }
   ],
   "source": [
    "print p"
   ]
  },
  {
   "cell_type": "code",
   "execution_count": 42,
   "metadata": {
    "collapsed": true,
    "deletable": true,
    "editable": true
   },
   "outputs": [],
   "source": [
    "m = pyrosetta.pose_from_file('../models/1w6y/model/S_0010_7.pdb')"
   ]
  },
  {
   "cell_type": "code",
   "execution_count": 44,
   "metadata": {
    "collapsed": false,
    "deletable": true,
    "editable": true
   },
   "outputs": [
    {
     "name": "stdout",
     "output_type": "stream",
     "text": [
      "PDB file name: ../models/1w6y/model/S_0010_7.pdb\n",
      "Total residues:127\n",
      "Sequence: LPTAQEVQGLMARYIELVDVGDIEAIVQMYADDATVEDPFGQPPIHGREQIAAFYRQGLGGGKVRACLTGPVRASHNGCGAMPFRVEMVANGQPCALDVIDVMRFDEHGRIQTMQAYWSEVNLSVRE\n",
      "Fold tree:\n",
      "FOLD_TREE  EDGE 1 127 -1 \n"
     ]
    }
   ],
   "source": [
    "#print m\n",
    "for i in range(1,100):\n",
    "#    print i, m.residue(i).name1()"
   ]
  },
  {
   "cell_type": "code",
   "execution_count": 55,
   "metadata": {
    "collapsed": true,
    "deletable": true,
    "editable": true
   },
   "outputs": [],
   "source": [
    "n = pyrosetta.pose_from_file('1w6y.pdb.clean.renum')"
   ]
  },
  {
   "cell_type": "code",
   "execution_count": 56,
   "metadata": {
    "collapsed": false,
    "deletable": true,
    "editable": true
   },
   "outputs": [
    {
     "name": "stdout",
     "output_type": "stream",
     "text": [
      "PDB file name: 1w6y.pdb.clean.renum\n",
      "Total residues:124\n",
      "Sequence: LPTAQEVQGLMARYIELVDVGDIEAIVQMYADDATVEDPFGQPPIHGREQIAAFYRQGLGGKVRACLTGPVRASHNGCGAMPFRVEMVANGQPCALDVIDVMRFDEHGRIQTMQAYWSEVNLSV\n",
      "Fold tree:\n",
      "FOLD_TREE  EDGE 1 124 -1 \n"
     ]
    }
   ],
   "source": [
    "print n"
   ]
  },
  {
   "cell_type": "code",
   "execution_count": 57,
   "metadata": {
    "collapsed": false
   },
   "outputs": [
    {
     "name": "stdout",
     "output_type": "stream",
     "text": [
      "1 L L\n",
      "2 P P\n",
      "3 T T\n",
      "4 A A\n",
      "5 Q Q\n",
      "6 E E\n",
      "7 V V\n",
      "8 Q Q\n",
      "9 G G\n",
      "10 L L\n",
      "11 M M\n",
      "12 A A\n",
      "13 R R\n",
      "14 Y Y\n",
      "15 I I\n",
      "16 E E\n",
      "17 L L\n",
      "18 V V\n",
      "19 D D\n",
      "20 V V\n",
      "21 G G\n",
      "22 D D\n",
      "23 I I\n",
      "24 E E\n",
      "25 A A\n",
      "26 I I\n",
      "27 V V\n",
      "28 Q Q\n",
      "29 M M\n",
      "30 Y Y\n",
      "31 A A\n",
      "32 D D\n",
      "33 D D\n",
      "34 A A\n",
      "35 T T\n",
      "36 V V\n",
      "37 E E\n",
      "38 D D\n",
      "39 P P\n",
      "40 F F\n",
      "41 G G\n",
      "42 Q Q\n",
      "43 P P\n",
      "44 P P\n",
      "45 I I\n",
      "46 H H\n",
      "47 G G\n",
      "48 R R\n",
      "49 E E\n",
      "50 Q Q\n",
      "51 I I\n",
      "52 A A\n",
      "53 A A\n",
      "54 F F\n",
      "55 Y Y\n",
      "56 R R\n",
      "57 Q Q\n",
      "58 G G\n",
      "59 L L\n",
      "60 G G\n",
      "61 G G\n",
      "62 G V\n",
      "63 K R\n",
      "64 V A\n",
      "65 R C\n",
      "66 A L\n",
      "67 C T\n",
      "68 L G\n",
      "69 T P\n",
      "70 G V\n",
      "71 P R\n",
      "72 V A\n",
      "73 R S\n",
      "74 A H\n",
      "75 S N\n",
      "76 H G\n",
      "77 N C\n",
      "78 G G\n",
      "79 C A\n",
      "80 G M\n",
      "81 A P\n",
      "82 M F\n",
      "83 P R\n",
      "84 F V\n",
      "85 R E\n",
      "86 V M\n",
      "87 E V\n",
      "88 M A\n",
      "89 V N\n",
      "90 A G\n",
      "91 N Q\n",
      "92 G P\n",
      "93 Q C\n",
      "94 P A\n",
      "95 C L\n",
      "96 A D\n",
      "97 L V\n",
      "98 D I\n",
      "99 V D\n",
      "100 I V\n",
      "101 D M\n",
      "102 V R\n",
      "103 M F\n",
      "104 R D\n",
      "105 F E\n",
      "106 D H\n",
      "107 E G\n",
      "108 H R\n",
      "109 G I\n",
      "110 R Q\n",
      "111 I T\n",
      "112 Q M\n",
      "113 T Q\n",
      "114 M A\n",
      "115 Q Y\n",
      "116 A W\n",
      "117 Y S\n",
      "118 W E\n",
      "119 S V\n",
      "120 E N\n",
      "121 V L\n",
      "122 N S\n",
      "123 L V\n"
     ]
    }
   ],
   "source": [
    "for i in range(1,124):\n",
    "    print i, m.residue(i).name1(),n.residue(int(n.pdb_info().pose2pdb(i)[:-2])).name1()"
   ]
  },
  {
   "cell_type": "code",
   "execution_count": 20,
   "metadata": {
    "collapsed": false,
    "deletable": true,
    "editable": true
   },
   "outputs": [
    {
     "name": "stdout",
     "output_type": "stream",
     "text": [
      "20\n",
      "      27.70800000000000      -26.51800000000000      -38.26700000000000\n",
      "      21.53800000000000      -35.41100000000000      -37.32800000000000\n",
      "      23.52100000000000      -34.35200000000000      -38.18700000000000\n",
      "      24.33700000000000      -33.21700000000000      -38.26100000000000\n",
      "      23.98800000000000      -32.03000000000000      -37.55200000000000\n",
      "      22.72800000000000      -32.03700000000000      -36.72300000000000\n",
      "      25.13000000000000      -27.97000000000000      -39.54600000000000\n",
      "      26.61400000000000      -26.87600000000000      -37.90000000000000\n",
      "      25.63400000000000      -26.03500000000000      -36.99200000000000\n",
      "      24.40300000000000      -27.00000000000000      -36.86800000000000\n",
      "      21.90600000000000      -33.21700000000000      -36.66100000000000\n",
      "      26.06200000000000      -30.81200000000000      -38.45400000000000\n",
      "      26.87700000000000      -29.47400000000000      -38.47700000000000\n",
      "      25.97900000000000      -28.21900000000000      -38.25600000000000\n",
      "      25.14600000000000      -28.36600000000000      -36.91200000000000\n",
      "      24.78300000000000      -30.82300000000000      -37.60400000000000\n",
      "      24.33600000000000      -29.64300000000000      -36.85000000000000\n",
      "      23.11500000000000      -29.66900000000000      -36.04400000000000\n",
      "      22.30400000000000      -30.86200000000000      -35.97300000000000\n",
      "      22.31100000000000      -34.35600000000000      -37.39500000000000\n",
      "[<rosetta.numeric.xyzVector_double_t object at 0x7fca635a89b0>, <rosetta.numeric.xyzVector_double_t object at 0x7fca635a8a30>, <rosetta.numeric.xyzVector_double_t object at 0x7fca635a8ab0>, <rosetta.numeric.xyzVector_double_t object at 0x7fca635a8b30>, <rosetta.numeric.xyzVector_double_t object at 0x7fca635a8bb0>, <rosetta.numeric.xyzVector_double_t object at 0x7fca635a8c30>, <rosetta.numeric.xyzVector_double_t object at 0x7fca803c0530>, <rosetta.numeric.xyzVector_double_t object at 0x7fca635a8430>, <rosetta.numeric.xyzVector_double_t object at 0x7fca635a8d30>, <rosetta.numeric.xyzVector_double_t object at 0x7fca635a80f0>, <rosetta.numeric.xyzVector_double_t object at 0x7fca635a84b0>, <rosetta.numeric.xyzVector_double_t object at 0x7fca635a8570>, <rosetta.numeric.xyzVector_double_t object at 0x7fca635a8830>, <rosetta.numeric.xyzVector_double_t object at 0x7fca635a84f0>, <rosetta.numeric.xyzVector_double_t object at 0x7fca635a86b0>, <rosetta.numeric.xyzVector_double_t object at 0x7fca635a83f0>, <rosetta.numeric.xyzVector_double_t object at 0x7fca635a8770>, <rosetta.numeric.xyzVector_double_t object at 0x7fca635a8030>, <rosetta.numeric.xyzVector_double_t object at 0x7fca635a8130>, <rosetta.numeric.xyzVector_double_t object at 0x7fca636c3cb0>]\n"
     ]
    }
   ],
   "source": [
    "n = pyrosetta.pose_from_file('1oh0.pdb.clean.renum')\n",
    "\n",
    "myxyzlist = []\n",
    "\n",
    "ua = n.pdb_info().get_unrecognized_atoms()\n",
    "print len(ua)\n",
    "for i in range(1,len(ua)+1):\n",
    "    #print ua.pop()\n",
    "    c=  ua.pop()\n",
    "#    print c.coords()\n",
    "    myxyzlist.append(c.coords())\n",
    "\n",
    "print myxyzlist"
   ]
  },
  {
   "cell_type": "code",
   "execution_count": 21,
   "metadata": {
    "collapsed": false,
    "deletable": true,
    "editable": true
   },
   "outputs": [
    {
     "name": "stdout",
     "output_type": "stream",
     "text": [
      "set([11, 14, 15, 18, 19, 26, 30, 36, 37, 38, 39, 40, 54, 55, 57, 58, 59, 60, 63, 64, 65, 66, 82, 84, 85, 86, 87, 88, 89, 90, 95, 97, 98, 99, 100, 101, 102, 103, 111, 114, 115, 116, 117, 118, 123])\n"
     ]
    }
   ],
   "source": [
    "cutoff = 8\n",
    "activesiteres = set()\n",
    "\n",
    "for atomi in myxyzlist: \n",
    "    for j in range(1,n.total_residue()):\n",
    "        resj = n.residue(j)\n",
    "        for k in range(1,resj.natoms()+1):\n",
    "            atomk = resj.atom(k)\n",
    "            distolig = atomk.xyz().distance(atomi)\n",
    "            if distolig < cutoff:\n",
    "               activesiteres.add(int(j))\n",
    "\n",
    "print activesiteres"
   ]
  },
  {
   "cell_type": "code",
   "execution_count": 23,
   "metadata": {
    "collapsed": false,
    "deletable": true,
    "editable": true
   },
   "outputs": [
    {
     "name": "stdout",
     "output_type": "stream",
     "text": [
      "Running tmalign on poses\n",
      "Starting xyz coords for res1 CA pose and reference pose\n",
      "      8.614394849038263      -53.11682072578544      -37.25859254824602\n",
      "      9.579000000000001      -52.22700000000000      -38.54500000000000\n",
      "TMScore = 0.932825300607 \n",
      "Hopefully these coordinates have changed, use the PyMolMover / Observer to watch in realtime\n",
      "      8.614394849038247      -53.11682072578544      -37.25859254824604\n",
      "      9.579000000000001      -52.22700000000000      -38.54500000000000\n",
      "Checking for ligand, will move it too!\n",
      "1.0625056002\n"
     ]
    }
   ],
   "source": [
    "#myset = ([356,357])\n",
    "import math\n",
    "from sjb_util import tmalign\n",
    "\n",
    "tmalign(m,n)\n",
    "\n",
    "runningrmsca = 0.0\n",
    "runningrmsheavy = 0.0\n",
    "numca = 0\n",
    "numheavy = 0\n",
    "\n",
    "for i in range(1, m.total_residue() ):\n",
    "    try:\n",
    "        if i in activesiteres:\n",
    "            mres = m.residue(i)\n",
    "            nres = n.residue( n.pdb_info().pdb2pose('A',i) ) \n",
    "            assert mres.name3() == nres.name3()\n",
    "\n",
    "            for j in range(1,nres.natoms()):     # loop over atoms in crysta\\l                                      \n",
    "\n",
    "                if not nres.atom_is_hydrogen( j ):  #skip the hydrogens  \n",
    "                    atomcrystal = nres.atom(j)\n",
    "                    for l in range(1,mres.natoms()): #loop over atoms in m\\odel                                     \n",
    "\n",
    "                        if not mres.atom_is_hydrogen( l ): #skip hydrogens\n",
    "                            atommodel = mres.atom(l)\n",
    "                            if (nres.atom_name(j) == mres.atom_name(l)):\n",
    "\n",
    "                                rms_jca_lca = atommodel.xyz().distance_squared( atomcrystal.xyz() )\n",
    "\n",
    "                                if mres.atom_name(j) == ' CA ':\n",
    "\n",
    "                                    runningrmsca += rms_jca_lca\n",
    "                                    numca +=1\n",
    "\n",
    "                                    runningrmsheavy += rms_jca_lca\n",
    "                                    numheavy +=1\n",
    "\n",
    "                                else:\n",
    "                                    runningrmsheavy += rms_jca_lca\n",
    "                                    numheavy +=1                                    \n",
    "\n",
    "    except:\n",
    "        raise\n",
    "\n",
    "print math.sqrt( runningrmsca/numca )"
   ]
  }
 ],
 "metadata": {
  "kernelspec": {
   "display_name": "Python 2",
   "language": "python",
   "name": "python2"
  },
  "language_info": {
   "codemirror_mode": {
    "name": "ipython",
    "version": 2
   },
   "file_extension": ".py",
   "mimetype": "text/x-python",
   "name": "python",
   "nbconvert_exporter": "python",
   "pygments_lexer": "ipython2",
   "version": "2.7.13"
  }
 },
 "nbformat": 4,
 "nbformat_minor": 2
}
