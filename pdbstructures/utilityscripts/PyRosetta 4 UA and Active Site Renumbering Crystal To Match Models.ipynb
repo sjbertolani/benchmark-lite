{
 "cells": [
  {
   "cell_type": "code",
   "execution_count": 1,
   "metadata": {
    "collapsed": false,
    "deletable": true,
    "editable": true
   },
   "outputs": [
    {
     "name": "stdout",
     "output_type": "stream",
     "text": [
      "Found rosetta database at: /home/steve/anaconda/envs/DebugPyRosetta/lib/python2.7/site-packages/pyrosetta-4.0-py2.7.egg/database; using it....\n",
      "PyRosetta-4 2016 [Rosetta 2016 unknown:40ccfaf8273337b4eb91cd59f05ccbfceef78c87 2016-08-30 16:18:01 -0500] retrieved from: git@github.com:RosettaCommons/main.git\n",
      "(C) Copyright Rosetta Commons Member Institutions.\n",
      "Created in JHU by Sergey Lyskov and PyRosetta Team.\n",
      "\n"
     ]
    }
   ],
   "source": [
    "import rosetta\n",
    "import pyrosetta\n",
    "pyrosetta.init('-ignore_unrecognized_res T -prevent_repacking T -remember_unrecognized_res T')"
   ]
  },
  {
   "cell_type": "code",
   "execution_count": 30,
   "metadata": {
    "collapsed": false,
    "deletable": true,
    "editable": true
   },
   "outputs": [],
   "source": [
    "p = pyrosetta.pose_from_file('1h6m.pdb.clean')"
   ]
  },
  {
   "cell_type": "code",
   "execution_count": 31,
   "metadata": {
    "collapsed": false,
    "deletable": true,
    "editable": true,
    "scrolled": true
   },
   "outputs": [
    {
     "name": "stdout",
     "output_type": "stream",
     "text": [
      "PDB file name: 1h6m.pdb.clean\n",
      "Total residues:129\n",
      "Sequence: KVFGRCELAAAMKRHGLDNYRGYSLGNWVCAAKFQSNFNTQATNRNTDGSTDYGILQINSRWWCNDGRTPGSRNLCNIPCSALLSSDITASVNCAKKIVSDGNGMNAWVAWRNRCKGTDVQAWIRGCRL\n",
      "Fold tree:\n",
      "FOLD_TREE  EDGE 1 129 -1 \n"
     ]
    }
   ],
   "source": [
    "print p"
   ]
  },
  {
   "cell_type": "code",
   "execution_count": 32,
   "metadata": {
    "collapsed": false,
    "deletable": true,
    "editable": true
   },
   "outputs": [],
   "source": [
    "m = pyrosetta.pose_from_file('../models/1h6m/model/S_0009_1.pdb')"
   ]
  },
  {
   "cell_type": "code",
   "execution_count": 33,
   "metadata": {
    "collapsed": false,
    "deletable": true,
    "editable": true
   },
   "outputs": [
    {
     "name": "stdout",
     "output_type": "stream",
     "text": [
      "PDB file name: ../models/1h6m/model/S_0009_1.pdb\n",
      "Total residues:129\n",
      "Sequence: KVFGRCELAAAMKRHGLDNYRGYSLGNWVCAAKFQSNFNTQATNRNTDGSTDYGILQINSRWWCNDGRTPGSRNLCNIPCSALLSSDITASVNCAKKIVSDGNGMNAWVAWRNRCKGTDVQAWIRGCRL\n",
      "Fold tree:\n",
      "FOLD_TREE  EDGE 1 129 -1 \n"
     ]
    }
   ],
   "source": [
    "print m\n",
    "#for i in range(1,100):\n",
    "#    print i, m.residue(i).name1()"
   ]
  },
  {
   "cell_type": "code",
   "execution_count": 6,
   "metadata": {
    "collapsed": true,
    "deletable": true,
    "editable": true
   },
   "outputs": [],
   "source": [
    "n = pyrosetta.pose_from_file('1w6y.pdb.clean.renum')"
   ]
  },
  {
   "cell_type": "code",
   "execution_count": 7,
   "metadata": {
    "collapsed": false,
    "deletable": true,
    "editable": true
   },
   "outputs": [
    {
     "name": "stdout",
     "output_type": "stream",
     "text": [
      "PDB file name: 1w6y.pdb.clean.renum\n",
      "Total residues:124\n",
      "Sequence: LPTAQEVQGLMARYIELVDVGDIEAIVQMYADDATVEDPFGQPPIHGREQIAAFYRQGLGGKVRACLTGPVRASHNGCGAMPFRVEMVANGQPCALDVIDVMRFDEHGRIQTMQAYWSEVNLSV\n",
      "Fold tree:\n",
      "FOLD_TREE  EDGE 1 124 -1 \n"
     ]
    }
   ],
   "source": [
    "print n"
   ]
  },
  {
   "cell_type": "code",
   "execution_count": 8,
   "metadata": {
    "collapsed": false,
    "deletable": true,
    "editable": true
   },
   "outputs": [
    {
     "name": "stdout",
     "output_type": "stream",
     "text": [
      "1 L L\n",
      "2 P P\n",
      "3 T T\n",
      "4 A A\n",
      "5 Q Q\n",
      "6 E E\n",
      "7 V V\n",
      "8 Q Q\n",
      "9 G G\n",
      "10 L L\n",
      "11 M M\n",
      "12 A A\n",
      "13 R R\n",
      "14 Y Y\n",
      "15 I I\n",
      "16 E E\n",
      "17 L L\n",
      "18 V V\n",
      "19 D D\n",
      "20 V V\n",
      "21 G G\n",
      "22 D D\n",
      "23 I I\n",
      "24 E E\n",
      "25 A A\n",
      "26 I I\n",
      "27 V V\n",
      "28 Q Q\n",
      "29 M M\n",
      "30 Y Y\n",
      "31 A A\n",
      "32 D D\n",
      "33 D D\n",
      "34 A A\n",
      "35 T T\n",
      "36 V V\n",
      "37 E E\n",
      "38 D D\n",
      "39 P P\n",
      "40 F F\n",
      "41 G G\n",
      "42 Q Q\n",
      "43 P P\n",
      "44 P P\n",
      "45 I I\n",
      "46 H H\n",
      "47 G G\n",
      "48 R R\n",
      "49 E E\n",
      "50 Q Q\n",
      "51 I I\n",
      "52 A A\n",
      "53 A A\n",
      "54 F F\n",
      "55 Y Y\n",
      "56 R R\n",
      "57 Q Q\n",
      "58 G G\n",
      "59 L L\n",
      "60 G G\n",
      "61 G G\n",
      "62 G V\n",
      "63 K R\n",
      "64 V A\n",
      "65 R C\n",
      "66 A L\n",
      "67 C T\n",
      "68 L G\n",
      "69 T P\n",
      "70 G V\n",
      "71 P R\n",
      "72 V A\n",
      "73 R S\n",
      "74 A H\n",
      "75 S N\n",
      "76 H G\n",
      "77 N C\n",
      "78 G G\n",
      "79 C A\n",
      "80 G M\n",
      "81 A P\n",
      "82 M F\n",
      "83 P R\n",
      "84 F V\n",
      "85 R E\n",
      "86 V M\n",
      "87 E V\n",
      "88 M A\n",
      "89 V N\n",
      "90 A G\n",
      "91 N Q\n",
      "92 G P\n",
      "93 Q C\n",
      "94 P A\n",
      "95 C L\n",
      "96 A D\n",
      "97 L V\n",
      "98 D I\n",
      "99 V D\n",
      "100 I V\n",
      "101 D M\n",
      "102 V R\n",
      "103 M F\n",
      "104 R D\n",
      "105 F E\n",
      "106 D H\n",
      "107 E G\n",
      "108 H R\n",
      "109 G I\n",
      "110 R Q\n",
      "111 I T\n",
      "112 Q M\n",
      "113 T Q\n",
      "114 M A\n",
      "115 Q Y\n",
      "116 A W\n",
      "117 Y S\n",
      "118 W E\n",
      "119 S V\n",
      "120 E N\n",
      "121 V L\n",
      "122 N S\n",
      "123 L V\n"
     ]
    }
   ],
   "source": [
    "for i in range(1,124):\n",
    "    print i, m.residue(i).name1(),n.residue(int(n.pdb_info().pose2pdb(i)[:-2])).name1()"
   ]
  },
  {
   "cell_type": "code",
   "execution_count": 8,
   "metadata": {
    "collapsed": false,
    "deletable": true,
    "editable": true
   },
   "outputs": [
    {
     "name": "stdout",
     "output_type": "stream",
     "text": [
      "49\n",
      "[<rosetta.numeric.xyzVector_double_t object at 0x7f52c2527830>, <rosetta.numeric.xyzVector_double_t object at 0x7f52c25278b0>, <rosetta.numeric.xyzVector_double_t object at 0x7f52c2527930>, <rosetta.numeric.xyzVector_double_t object at 0x7f52c25279b0>, <rosetta.numeric.xyzVector_double_t object at 0x7f52c2527a30>, <rosetta.numeric.xyzVector_double_t object at 0x7f52c2527ab0>, <rosetta.numeric.xyzVector_double_t object at 0x7f52c2527b30>, <rosetta.numeric.xyzVector_double_t object at 0x7f52c2527bb0>, <rosetta.numeric.xyzVector_double_t object at 0x7f52c2527c30>, <rosetta.numeric.xyzVector_double_t object at 0x7f52c2527cb0>, <rosetta.numeric.xyzVector_double_t object at 0x7f52c2527d30>, <rosetta.numeric.xyzVector_double_t object at 0x7f52c2527db0>, <rosetta.numeric.xyzVector_double_t object at 0x7f52c2527e30>, <rosetta.numeric.xyzVector_double_t object at 0x7f52c2527eb0>, <rosetta.numeric.xyzVector_double_t object at 0x7f52c2527f30>, <rosetta.numeric.xyzVector_double_t object at 0x7f52c2527fb0>, <rosetta.numeric.xyzVector_double_t object at 0x7f52c2526070>, <rosetta.numeric.xyzVector_double_t object at 0x7f52c25260f0>, <rosetta.numeric.xyzVector_double_t object at 0x7f52c2526170>, <rosetta.numeric.xyzVector_double_t object at 0x7f52c25261f0>, <rosetta.numeric.xyzVector_double_t object at 0x7f52c2526270>, <rosetta.numeric.xyzVector_double_t object at 0x7f52c25262f0>, <rosetta.numeric.xyzVector_double_t object at 0x7f52c2526370>, <rosetta.numeric.xyzVector_double_t object at 0x7f52c25263f0>, <rosetta.numeric.xyzVector_double_t object at 0x7f52c2526470>, <rosetta.numeric.xyzVector_double_t object at 0x7f52c25264f0>, <rosetta.numeric.xyzVector_double_t object at 0x7f52c2526570>, <rosetta.numeric.xyzVector_double_t object at 0x7f52c25265f0>, <rosetta.numeric.xyzVector_double_t object at 0x7f52c2526670>, <rosetta.numeric.xyzVector_double_t object at 0x7f52c25266f0>, <rosetta.numeric.xyzVector_double_t object at 0x7f52c2526770>, <rosetta.numeric.xyzVector_double_t object at 0x7f52c25267f0>, <rosetta.numeric.xyzVector_double_t object at 0x7f52c2526870>, <rosetta.numeric.xyzVector_double_t object at 0x7f52c25268f0>, <rosetta.numeric.xyzVector_double_t object at 0x7f52c2526970>, <rosetta.numeric.xyzVector_double_t object at 0x7f52c25269f0>, <rosetta.numeric.xyzVector_double_t object at 0x7f52c2526a70>, <rosetta.numeric.xyzVector_double_t object at 0x7f52c2526af0>, <rosetta.numeric.xyzVector_double_t object at 0x7f52c2526b70>, <rosetta.numeric.xyzVector_double_t object at 0x7f52c2526bf0>, <rosetta.numeric.xyzVector_double_t object at 0x7f52c2526c70>, <rosetta.numeric.xyzVector_double_t object at 0x7f52c2526cf0>, <rosetta.numeric.xyzVector_double_t object at 0x7f52c2526d70>, <rosetta.numeric.xyzVector_double_t object at 0x7f52c2526df0>, <rosetta.numeric.xyzVector_double_t object at 0x7f52c2526e70>, <rosetta.numeric.xyzVector_double_t object at 0x7f52c2526ef0>, <rosetta.numeric.xyzVector_double_t object at 0x7f52c2526f70>, <rosetta.numeric.xyzVector_double_t object at 0x7f52c252a030>, <rosetta.numeric.xyzVector_double_t object at 0x7f52c252a0b0>]\n"
     ]
    }
   ],
   "source": [
    "n = p\n",
    "#n = pyrosetta.pose_from_file('1oh0.pdb.clean.renum')\n",
    "\n",
    "myxyzlist = []\n",
    "\n",
    "ua = n.pdb_info().get_unrecognized_atoms()\n",
    "print len(ua)\n",
    "for i in range(1,len(ua)+1):\n",
    "    #print ua.pop()\n",
    "    c=  ua.pop()\n",
    "#    print c.coords()\n",
    "    myxyzlist.append(c.coords())\n",
    "\n",
    "print myxyzlist"
   ]
  },
  {
   "cell_type": "code",
   "execution_count": 11,
   "metadata": {
    "collapsed": false,
    "deletable": true,
    "editable": true
   },
   "outputs": [
    {
     "name": "stdout",
     "output_type": "stream",
     "text": [
      "    -0.4960000000000000      -1.464000000000000      -4.539000000000000\n",
      "    -0.4960000000000000      -1.464000000000000      -4.539000000000000\n",
      "     -1.297000000000000       2.935000000000000      0.4620000000000000\n",
      "     -1.297000000000000       2.935000000000000      0.4620000000000000\n",
      "    -0.6500000000000000      -1.529000000000000      0.7220000000000000\n",
      "    -0.6500000000000000      -1.529000000000000      0.7220000000000000\n",
      "     -3.481000000000000      -1.410000000000000      -2.207000000000000\n",
      "     -3.481000000000000      -1.410000000000000      -2.207000000000000\n",
      "     0.3480000000000000      0.4870000000000000      0.2880000000000000\n",
      "     0.3480000000000000      0.4870000000000000      0.2880000000000000\n",
      "    -0.6600000000000000     -0.3230000000000000      -2.461000000000000\n",
      "    -0.6600000000000000     -0.3230000000000000      -2.461000000000000\n",
      "      2.086000000000000      -1.984000000000000      -1.130000000000000\n",
      "      2.086000000000000      -1.984000000000000      -1.130000000000000\n",
      "      1.762000000000000      -1.761000000000000      -2.856000000000000\n",
      "      1.762000000000000      -1.761000000000000      -2.856000000000000\n",
      "      2.082000000000000     -0.3570000000000000      -1.827000000000000\n",
      "      2.082000000000000     -0.3570000000000000      -1.827000000000000\n",
      "      1.328000000000000       2.751000000000000       1.331000000000000\n",
      "      1.328000000000000       2.751000000000000       1.331000000000000\n",
      "     0.5090000000000000       2.673000000000000       2.905000000000000\n",
      "     0.5090000000000000       2.673000000000000       2.905000000000000\n",
      "    -0.2920000000000000      0.2950000000000000       2.301000000000000\n",
      "    -0.2920000000000000      0.2950000000000000       2.301000000000000\n",
      "     -2.879000000000000       3.056000000000000       2.530000000000000\n",
      "     -2.879000000000000       3.056000000000000       2.530000000000000\n",
      "     -2.209000000000000       1.218000000000000      0.8350000000000000\n",
      "     -2.209000000000000       1.218000000000000      0.8350000000000000\n",
      "    -0.2220000000000000      -2.333000000000000      -4.266000000000000\n",
      "    -0.2220000000000000      -2.333000000000000      -4.266000000000000\n",
      "    -0.7750000000000000       3.597000000000000      0.8980000000000000\n",
      "    -0.7750000000000000       3.597000000000000      0.8980000000000000\n",
      "      5.143000000000000     -0.6290000000000000       4.199000000000000\n",
      "      5.143000000000000     -0.6290000000000000       4.199000000000000\n",
      "      5.415000000000000      0.6380000000000000       2.077000000000000\n",
      "      5.415000000000000      0.6380000000000000       2.077000000000000\n",
      "      3.492000000000000       1.864000000000000       1.103000000000000\n",
      "      3.492000000000000       1.864000000000000       1.103000000000000\n",
      "      1.008000000000000      0.5610000000000001       4.380000000000000\n",
      "      1.008000000000000      0.5610000000000001       4.380000000000000\n",
      "      2.938000000000000     -0.6660000000000000       5.348000000000000\n",
      "      2.938000000000000     -0.6660000000000000       5.348000000000000\n",
      "     -2.379000000000000       1.548000000000000       3.313000000000000\n",
      "     -2.379000000000000       1.548000000000000       3.313000000000000\n",
      "     0.4310000000000000       1.144000000000000     -0.4580000000000000\n",
      "     0.4310000000000000       1.144000000000000     -0.4580000000000000\n",
      "   -0.05300000000000000      0.3910000000000000      -2.809000000000000\n",
      "   -0.05300000000000000      0.3910000000000000      -2.809000000000000\n",
      "     -3.955000000000000     -0.6810000000000000      -2.698000000000000\n",
      "     -3.955000000000000     -0.6810000000000000      -2.698000000000000\n",
      "     -3.064000000000000      -1.040000000000000      -1.380000000000000\n",
      "     -3.064000000000000      -1.040000000000000      -1.380000000000000\n",
      "     -3.604000000000000      -1.990000000000000      -4.930000000000000\n",
      "     -3.604000000000000      -1.990000000000000      -4.930000000000000\n",
      "     -2.398000000000000      -3.282000000000000      -4.847000000000000\n",
      "     -2.398000000000000      -3.282000000000000      -4.847000000000000\n",
      "     -3.889000000000000      -3.408000000000000      -3.906000000000000\n",
      "     -3.889000000000000      -3.408000000000000      -3.906000000000000\n",
      "     -1.901000000000000      -2.770000000000000      -2.451000000000000\n",
      "     -1.901000000000000      -2.770000000000000      -2.451000000000000\n",
      "     -1.909000000000000     -0.1390000000000000      -4.154000000000000\n",
      "     -1.909000000000000     -0.1390000000000000      -4.154000000000000\n",
      "    -0.3660000000000000      -2.270000000000000      -1.664000000000000\n",
      "    -0.3660000000000000      -2.270000000000000      -1.664000000000000\n",
      "     -1.257000000000000       2.920000000000000       3.258000000000000\n",
      "     -1.257000000000000       2.920000000000000       3.258000000000000\n",
      "      2.127000000000000       1.292000000000000       2.682000000000000\n",
      "      2.127000000000000       1.292000000000000       2.682000000000000\n",
      "    -0.1380000000000000     -0.7900000000000000     -0.1060000000000000\n",
      "    -0.1380000000000000     -0.7900000000000000     -0.1060000000000000\n",
      "     0.9710000000000000       2.043000000000000       2.108000000000000\n",
      "     0.9710000000000000       2.043000000000000       2.108000000000000\n",
      "      1.980000000000000      0.5800000000000000       3.874000000000000\n",
      "      1.980000000000000      0.5800000000000000       3.874000000000000\n",
      "      3.367000000000000       1.310000000000000       2.040000000000000\n",
      "      3.367000000000000       1.310000000000000       2.040000000000000\n",
      "      3.060000000000000     -0.1070000000000000       4.415000000000000\n",
      "      3.060000000000000     -0.1070000000000000       4.415000000000000\n",
      "      4.445000000000000      0.6210000000000000       2.585000000000000\n",
      "      4.445000000000000      0.6210000000000000       2.585000000000000\n",
      "      4.294000000000000    -0.08699999999999999       3.772000000000000\n",
      "      4.294000000000000    -0.08699999999999999       3.772000000000000\n",
      "     -3.118000000000000      -2.705000000000000      -4.251000000000000\n",
      "     -3.118000000000000      -2.705000000000000      -4.251000000000000\n",
      "      1.581000000000000      -1.336000000000000      -1.859000000000000\n",
      "      1.581000000000000      -1.336000000000000      -1.859000000000000\n",
      "     -2.031000000000000       2.378000000000000       2.687000000000000\n",
      "     -2.031000000000000       2.378000000000000       2.687000000000000\n",
      "     -1.403000000000000     -0.9610000000000000      -3.591000000000000\n",
      "     -1.403000000000000     -0.9610000000000000      -3.591000000000000\n",
      "    -0.1210000000000000       1.113000000000000       1.553000000000000\n",
      "    -0.1210000000000000       1.113000000000000       1.553000000000000\n",
      "    0.09100000000000000      -1.245000000000000      -1.558000000000000\n",
      "    0.09100000000000000      -1.245000000000000      -1.558000000000000\n",
      "     -1.468000000000000       1.862000000000000       1.360000000000000\n",
      "     -1.468000000000000       1.862000000000000       1.360000000000000\n",
      "     -2.441000000000000      -2.007000000000000      -3.079000000000000\n",
      "     -2.441000000000000      -2.007000000000000      -3.079000000000000\n",
      "set([])\n"
     ]
    }
   ],
   "source": [
    "cutoff = 8\n",
    "activesiteres = set()\n",
    "\n",
    "for atomi in myxyzlist: \n",
    "    print atomi\n",
    "    #print atomi\n",
    "    for j in range(1,n.total_residue()):\n",
    "        resj = n.residue(j)\n",
    "        for k in range(1,resj.natoms()+1):\n",
    "            atomk = resj.atom(k)\n",
    "            \n",
    "            distolig = atomk.xyz().distance(atomi)\n",
    "            if distolig < cutoff:\n",
    "               activesiteres.add(int(j))\n",
    "\n",
    "print activesiteres"
   ]
  },
  {
   "cell_type": "code",
   "execution_count": 23,
   "metadata": {
    "collapsed": false,
    "deletable": true,
    "editable": true
   },
   "outputs": [
    {
     "name": "stdout",
     "output_type": "stream",
     "text": [
      "Running tmalign on poses\n",
      "Starting xyz coords for res1 CA pose and reference pose\n",
      "      8.614394849038263      -53.11682072578544      -37.25859254824602\n",
      "      9.579000000000001      -52.22700000000000      -38.54500000000000\n",
      "TMScore = 0.932825300607 \n",
      "Hopefully these coordinates have changed, use the PyMolMover / Observer to watch in realtime\n",
      "      8.614394849038247      -53.11682072578544      -37.25859254824604\n",
      "      9.579000000000001      -52.22700000000000      -38.54500000000000\n",
      "Checking for ligand, will move it too!\n",
      "1.0625056002\n"
     ]
    }
   ],
   "source": [
    "#myset = ([356,357])\n",
    "import math\n",
    "from sjb_util import tmalign\n",
    "\n",
    "tmalign(m,n)\n",
    "\n",
    "runningrmsca = 0.0\n",
    "runningrmsheavy = 0.0\n",
    "numca = 0\n",
    "numheavy = 0\n",
    "\n",
    "for i in range(1, m.total_residue() ):\n",
    "    try:\n",
    "        if i in activesiteres:\n",
    "            mres = m.residue(i)\n",
    "            nres = n.residue( n.pdb_info().pdb2pose('A',i) ) \n",
    "            assert mres.name3() == nres.name3()\n",
    "\n",
    "            for j in range(1,nres.natoms()):     # loop over atoms in crysta\\l                                      \n",
    "\n",
    "                if not nres.atom_is_hydrogen( j ):  #skip the hydrogens  \n",
    "                    atomcrystal = nres.atom(j)\n",
    "                    for l in range(1,mres.natoms()): #loop over atoms in m\\odel                                     \n",
    "\n",
    "                        if not mres.atom_is_hydrogen( l ): #skip hydrogens\n",
    "                            atommodel = mres.atom(l)\n",
    "                            if (nres.atom_name(j) == mres.atom_name(l)):\n",
    "\n",
    "                                rms_jca_lca = atommodel.xyz().distance_squared( atomcrystal.xyz() )\n",
    "\n",
    "                                if mres.atom_name(j) == ' CA ':\n",
    "\n",
    "                                    runningrmsca += rms_jca_lca\n",
    "                                    numca +=1\n",
    "\n",
    "                                    runningrmsheavy += rms_jca_lca\n",
    "                                    numheavy +=1\n",
    "\n",
    "                                else:\n",
    "                                    runningrmsheavy += rms_jca_lca\n",
    "                                    numheavy +=1                                    \n",
    "\n",
    "    except:\n",
    "        raise\n",
    "\n",
    "print math.sqrt( runningrmsca/numca )"
   ]
  }
 ],
 "metadata": {
  "anaconda-cloud": {},
  "kernelspec": {
   "display_name": "Python [default]",
   "language": "python",
   "name": "python2"
  },
  "language_info": {
   "codemirror_mode": {
    "name": "ipython",
    "version": 2
   },
   "file_extension": ".py",
   "mimetype": "text/x-python",
   "name": "python",
   "nbconvert_exporter": "python",
   "pygments_lexer": "ipython2",
   "version": "2.7.12"
  }
 },
 "nbformat": 4,
 "nbformat_minor": 2
}
