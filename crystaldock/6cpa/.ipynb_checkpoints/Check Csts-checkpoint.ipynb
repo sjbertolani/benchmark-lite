{
 "cells": [
  {
   "cell_type": "code",
   "execution_count": 8,
   "metadata": {
    "collapsed": false
   },
   "outputs": [],
   "source": [
    "import pandas as pd\n",
    "import matplotlib.pyplot as plt\n",
    "%matplotlib inline"
   ]
  },
  {
   "cell_type": "code",
   "execution_count": 9,
   "metadata": {
    "collapsed": false
   },
   "outputs": [],
   "source": [
    "df = pd.read_csv('score.sc',header=0, sep='\\s+')\n",
    "#df['all_cst']"
   ]
  },
  {
   "cell_type": "code",
   "execution_count": 10,
   "metadata": {
    "collapsed": false
   },
   "outputs": [
    {
     "name": "stdout",
     "output_type": "stream",
     "text": [
      "['total_score', 'fa_rep', 'hbond_sc', 'all_cst', 'tot_pstat_pm', 'tot_nlpstat_pm', 'tot_burunsat_pm', 'tot_hbond_pm', 'tot_NLconts_pm', 'tot_nlsurfaceE_pm', 'tot_total_charge', 'tot_total_pos_charges', 'tot_total_neg_charges', 'tot_seq_recovery', 'SR_1', 'SR_1_total_score', 'SR_1_fa_rep', 'SR_1_hbond_sc', 'SR_1_all_cst', 'SR_1_hbond_pm', 'SR_1_burunsat_pm', 'SR_1_pstat_pm', 'SR_1_nlpstat_pm', 'SR_2', 'SR_2_total_score', 'SR_2_fa_rep', 'SR_2_hbond_sc', 'SR_2_all_cst', 'SR_2_hbond_pm', 'SR_2_burunsat_pm', 'SR_2_pstat_pm', 'SR_2_nlpstat_pm', 'SR_3', 'SR_3_total_score', 'SR_3_fa_rep', 'SR_3_hbond_sc', 'SR_3_all_cst', 'SR_3_hbond_pm', 'SR_3_burunsat_pm', 'SR_3_pstat_pm', 'SR_3_nlpstat_pm', 'SR_4', 'SR_4_total_score', 'SR_4_fa_rep', 'SR_4_hbond_sc', 'SR_4_all_cst', 'SR_4_interf_E_1_2', 'SR_4_dsasa_1_2', 'SR_4_hbond_pm', 'SR_4_burunsat_pm', 'Grid_score', 'Transform_accept_ratio', 'description']\n"
     ]
    },
    {
     "data": {
      "text/html": [
       "<div>\n",
       "<table border=\"1\" class=\"dataframe\">\n",
       "  <thead>\n",
       "    <tr style=\"text-align: right;\">\n",
       "      <th></th>\n",
       "      <th>all_cst</th>\n",
       "      <th>SR_1_all_cst</th>\n",
       "      <th>SR_2_all_cst</th>\n",
       "      <th>SR_3_all_cst</th>\n",
       "      <th>SR_4_all_cst</th>\n",
       "      <th>description</th>\n",
       "      <th>SR_4_all_cst</th>\n",
       "      <th>total_score</th>\n",
       "    </tr>\n",
       "  </thead>\n",
       "  <tbody>\n",
       "    <tr>\n",
       "      <th>0</th>\n",
       "      <td>0.0</td>\n",
       "      <td>0.00</td>\n",
       "      <td>0.00</td>\n",
       "      <td>0.0</td>\n",
       "      <td>0.00</td>\n",
       "      <td>2jie.dock_0001</td>\n",
       "      <td>0.00</td>\n",
       "      <td>505.45</td>\n",
       "    </tr>\n",
       "    <tr>\n",
       "      <th>1</th>\n",
       "      <td>0.0</td>\n",
       "      <td>0.00</td>\n",
       "      <td>0.00</td>\n",
       "      <td>0.0</td>\n",
       "      <td>0.00</td>\n",
       "      <td>2jie.dock_0002</td>\n",
       "      <td>0.00</td>\n",
       "      <td>451.19</td>\n",
       "    </tr>\n",
       "    <tr>\n",
       "      <th>2</th>\n",
       "      <td>0.0</td>\n",
       "      <td>0.01</td>\n",
       "      <td>0.01</td>\n",
       "      <td>0.0</td>\n",
       "      <td>0.01</td>\n",
       "      <td>2jie.dock_0003</td>\n",
       "      <td>0.01</td>\n",
       "      <td>435.68</td>\n",
       "    </tr>\n",
       "    <tr>\n",
       "      <th>3</th>\n",
       "      <td>0.0</td>\n",
       "      <td>0.05</td>\n",
       "      <td>0.05</td>\n",
       "      <td>0.0</td>\n",
       "      <td>0.05</td>\n",
       "      <td>2jie.dock_0004</td>\n",
       "      <td>0.05</td>\n",
       "      <td>467.65</td>\n",
       "    </tr>\n",
       "    <tr>\n",
       "      <th>4</th>\n",
       "      <td>0.0</td>\n",
       "      <td>0.02</td>\n",
       "      <td>0.02</td>\n",
       "      <td>0.0</td>\n",
       "      <td>0.02</td>\n",
       "      <td>2jie.dock_0005</td>\n",
       "      <td>0.02</td>\n",
       "      <td>497.61</td>\n",
       "    </tr>\n",
       "    <tr>\n",
       "      <th>5</th>\n",
       "      <td>0.0</td>\n",
       "      <td>0.00</td>\n",
       "      <td>0.00</td>\n",
       "      <td>0.0</td>\n",
       "      <td>0.00</td>\n",
       "      <td>2jie.dock_0006</td>\n",
       "      <td>0.00</td>\n",
       "      <td>453.99</td>\n",
       "    </tr>\n",
       "    <tr>\n",
       "      <th>6</th>\n",
       "      <td>0.0</td>\n",
       "      <td>0.03</td>\n",
       "      <td>0.03</td>\n",
       "      <td>0.0</td>\n",
       "      <td>0.03</td>\n",
       "      <td>2jie.dock_0007</td>\n",
       "      <td>0.03</td>\n",
       "      <td>455.60</td>\n",
       "    </tr>\n",
       "    <tr>\n",
       "      <th>7</th>\n",
       "      <td>0.0</td>\n",
       "      <td>0.07</td>\n",
       "      <td>0.07</td>\n",
       "      <td>0.0</td>\n",
       "      <td>0.07</td>\n",
       "      <td>2jie.dock_0008</td>\n",
       "      <td>0.07</td>\n",
       "      <td>511.47</td>\n",
       "    </tr>\n",
       "    <tr>\n",
       "      <th>8</th>\n",
       "      <td>0.0</td>\n",
       "      <td>0.03</td>\n",
       "      <td>0.03</td>\n",
       "      <td>0.0</td>\n",
       "      <td>0.03</td>\n",
       "      <td>2jie.dock_0009</td>\n",
       "      <td>0.03</td>\n",
       "      <td>461.24</td>\n",
       "    </tr>\n",
       "  </tbody>\n",
       "</table>\n",
       "</div>"
      ],
      "text/plain": [
       "   all_cst  SR_1_all_cst  SR_2_all_cst  SR_3_all_cst  SR_4_all_cst  \\\n",
       "0      0.0          0.00          0.00           0.0          0.00   \n",
       "1      0.0          0.00          0.00           0.0          0.00   \n",
       "2      0.0          0.01          0.01           0.0          0.01   \n",
       "3      0.0          0.05          0.05           0.0          0.05   \n",
       "4      0.0          0.02          0.02           0.0          0.02   \n",
       "5      0.0          0.00          0.00           0.0          0.00   \n",
       "6      0.0          0.03          0.03           0.0          0.03   \n",
       "7      0.0          0.07          0.07           0.0          0.07   \n",
       "8      0.0          0.03          0.03           0.0          0.03   \n",
       "\n",
       "      description  SR_4_all_cst  total_score  \n",
       "0  2jie.dock_0001          0.00       505.45  \n",
       "1  2jie.dock_0002          0.00       451.19  \n",
       "2  2jie.dock_0003          0.01       435.68  \n",
       "3  2jie.dock_0004          0.05       467.65  \n",
       "4  2jie.dock_0005          0.02       497.61  \n",
       "5  2jie.dock_0006          0.00       453.99  \n",
       "6  2jie.dock_0007          0.03       455.60  \n",
       "7  2jie.dock_0008          0.07       511.47  \n",
       "8  2jie.dock_0009          0.03       461.24  "
      ]
     },
     "execution_count": 10,
     "metadata": {},
     "output_type": "execute_result"
    }
   ],
   "source": [
    "print list(df)\n",
    "df[['all_cst','SR_1_all_cst','SR_2_all_cst','SR_3_all_cst','SR_4_all_cst','SR_5_all_cst','SR_6_all_cst','SR_7_all_cst','description','total_score']]"
   ]
  },
  {
   "cell_type": "code",
   "execution_count": null,
   "metadata": {
    "collapsed": true
   },
   "outputs": [],
   "source": []
  }
 ],
 "metadata": {
  "anaconda-cloud": {},
  "kernelspec": {
   "display_name": "Python [default]",
   "language": "python",
   "name": "python2"
  },
  "language_info": {
   "codemirror_mode": {
    "name": "ipython",
    "version": 2
   },
   "file_extension": ".py",
   "mimetype": "text/x-python",
   "name": "python",
   "nbconvert_exporter": "python",
   "pygments_lexer": "ipython2",
   "version": "2.7.12"
  }
 },
 "nbformat": 4,
 "nbformat_minor": 1
}
