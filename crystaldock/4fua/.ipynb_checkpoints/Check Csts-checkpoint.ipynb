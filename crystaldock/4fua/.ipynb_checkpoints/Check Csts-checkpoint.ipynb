{
 "cells": [
  {
   "cell_type": "code",
   "execution_count": 1,
   "metadata": {
    "collapsed": false
   },
   "outputs": [],
   "source": [
    "import pandas as pd\n",
    "import matplotlib.pyplot as plt\n",
    "%matplotlib inline"
   ]
  },
  {
   "cell_type": "code",
   "execution_count": 2,
   "metadata": {
    "collapsed": false
   },
   "outputs": [],
   "source": [
    "df = pd.read_csv('score.sc',header=0, sep='\\s+')\n",
    "#df['all_cst']"
   ]
  },
  {
   "cell_type": "code",
   "execution_count": 3,
   "metadata": {
    "collapsed": false
   },
   "outputs": [
    {
     "name": "stdout",
     "output_type": "stream",
     "text": [
      "['total_score', 'fa_rep', 'hbond_sc', 'all_cst', 'tot_pstat_pm', 'tot_nlpstat_pm', 'tot_burunsat_pm', 'tot_hbond_pm', 'tot_NLconts_pm', 'tot_nlsurfaceE_pm', 'tot_total_charge', 'tot_total_pos_charges', 'tot_total_neg_charges', 'tot_seq_recovery', 'SR_1', 'SR_1_total_score', 'SR_1_fa_rep', 'SR_1_hbond_sc', 'SR_1_all_cst', 'SR_1_hbond_pm', 'SR_1_burunsat_pm', 'SR_1_pstat_pm', 'SR_1_nlpstat_pm', 'SR_2', 'SR_2_total_score', 'SR_2_fa_rep', 'SR_2_hbond_sc', 'SR_2_all_cst', 'SR_2_hbond_pm', 'SR_2_burunsat_pm', 'SR_2_pstat_pm', 'SR_2_nlpstat_pm', 'SR_3', 'SR_3_total_score', 'SR_3_fa_rep', 'SR_3_hbond_sc', 'SR_3_all_cst', 'SR_3_hbond_pm', 'SR_3_burunsat_pm', 'SR_3_pstat_pm', 'SR_3_nlpstat_pm', 'SR_4', 'SR_4_total_score', 'SR_4_fa_rep', 'SR_4_hbond_sc', 'SR_4_all_cst', 'SR_4_hbond_pm', 'SR_4_burunsat_pm', 'SR_4_pstat_pm', 'SR_4_nlpstat_pm', 'SR_5', 'SR_5_total_score', 'SR_5_fa_rep', 'SR_5_hbond_sc', 'SR_5_all_cst', 'SR_5_interf_E_1_2', 'SR_5_dsasa_1_2', 'SR_5_hbond_pm', 'SR_5_burunsat_pm', 'SR_6', 'SR_6_total_score', 'SR_6_fa_rep', 'SR_6_hbond_sc', 'SR_6_all_cst', 'SR_6_interf_E_1_3', 'SR_6_dsasa_1_3', 'SR_6_hbond_pm', 'SR_6_burunsat_pm', 'Transform_accept_ratio', 'allcst', 'description']\n"
     ]
    },
    {
     "data": {
      "text/html": [
       "<div>\n",
       "<table border=\"1\" class=\"dataframe\">\n",
       "  <thead>\n",
       "    <tr style=\"text-align: right;\">\n",
       "      <th></th>\n",
       "      <th>all_cst</th>\n",
       "      <th>SR_1_all_cst</th>\n",
       "      <th>SR_2_all_cst</th>\n",
       "      <th>SR_3_all_cst</th>\n",
       "      <th>SR_4_all_cst</th>\n",
       "      <th>description</th>\n",
       "      <th>SR_4_all_cst</th>\n",
       "      <th>SR_5_all_cst</th>\n",
       "      <th>SR_6_all_cst</th>\n",
       "      <th>total_score</th>\n",
       "    </tr>\n",
       "  </thead>\n",
       "  <tbody>\n",
       "    <tr>\n",
       "      <th>0</th>\n",
       "      <td>0.0</td>\n",
       "      <td>0.13</td>\n",
       "      <td>0.90</td>\n",
       "      <td>0.06</td>\n",
       "      <td>0.07</td>\n",
       "      <td>4fua.dock_0001</td>\n",
       "      <td>0.07</td>\n",
       "      <td>1.31</td>\n",
       "      <td>0.29</td>\n",
       "      <td>19.62</td>\n",
       "    </tr>\n",
       "    <tr>\n",
       "      <th>1</th>\n",
       "      <td>0.0</td>\n",
       "      <td>0.00</td>\n",
       "      <td>0.04</td>\n",
       "      <td>0.02</td>\n",
       "      <td>0.00</td>\n",
       "      <td>4fua.dock_0002</td>\n",
       "      <td>0.00</td>\n",
       "      <td>0.06</td>\n",
       "      <td>0.00</td>\n",
       "      <td>16.19</td>\n",
       "    </tr>\n",
       "    <tr>\n",
       "      <th>2</th>\n",
       "      <td>0.0</td>\n",
       "      <td>0.01</td>\n",
       "      <td>0.02</td>\n",
       "      <td>0.03</td>\n",
       "      <td>0.01</td>\n",
       "      <td>4fua.dock_0003</td>\n",
       "      <td>0.01</td>\n",
       "      <td>0.05</td>\n",
       "      <td>0.01</td>\n",
       "      <td>18.55</td>\n",
       "    </tr>\n",
       "    <tr>\n",
       "      <th>3</th>\n",
       "      <td>0.0</td>\n",
       "      <td>0.00</td>\n",
       "      <td>0.06</td>\n",
       "      <td>0.03</td>\n",
       "      <td>0.01</td>\n",
       "      <td>4fua.dock_0004</td>\n",
       "      <td>0.01</td>\n",
       "      <td>0.09</td>\n",
       "      <td>0.01</td>\n",
       "      <td>18.91</td>\n",
       "    </tr>\n",
       "    <tr>\n",
       "      <th>4</th>\n",
       "      <td>0.0</td>\n",
       "      <td>0.02</td>\n",
       "      <td>0.03</td>\n",
       "      <td>0.02</td>\n",
       "      <td>0.00</td>\n",
       "      <td>4fua.dock_0005</td>\n",
       "      <td>0.00</td>\n",
       "      <td>0.08</td>\n",
       "      <td>0.02</td>\n",
       "      <td>15.05</td>\n",
       "    </tr>\n",
       "  </tbody>\n",
       "</table>\n",
       "</div>"
      ],
      "text/plain": [
       "   all_cst  SR_1_all_cst  SR_2_all_cst  SR_3_all_cst  SR_4_all_cst  \\\n",
       "0      0.0          0.13          0.90          0.06          0.07   \n",
       "1      0.0          0.00          0.04          0.02          0.00   \n",
       "2      0.0          0.01          0.02          0.03          0.01   \n",
       "3      0.0          0.00          0.06          0.03          0.01   \n",
       "4      0.0          0.02          0.03          0.02          0.00   \n",
       "\n",
       "      description  SR_4_all_cst  SR_5_all_cst  SR_6_all_cst  total_score  \n",
       "0  4fua.dock_0001          0.07          1.31          0.29        19.62  \n",
       "1  4fua.dock_0002          0.00          0.06          0.00        16.19  \n",
       "2  4fua.dock_0003          0.01          0.05          0.01        18.55  \n",
       "3  4fua.dock_0004          0.01          0.09          0.01        18.91  \n",
       "4  4fua.dock_0005          0.00          0.08          0.02        15.05  "
      ]
     },
     "execution_count": 3,
     "metadata": {},
     "output_type": "execute_result"
    }
   ],
   "source": [
    "print list(df)\n",
    "df[['all_cst','SR_1_all_cst','SR_2_all_cst','SR_3_all_cst','SR_4_all_cst','description','SR_4_all_cst','SR_5_all_cst','SR_6_all_cst','total_score']]"
   ]
  },
  {
   "cell_type": "code",
   "execution_count": null,
   "metadata": {
    "collapsed": true
   },
   "outputs": [],
   "source": []
  }
 ],
 "metadata": {
  "anaconda-cloud": {},
  "kernelspec": {
   "display_name": "Python [default]",
   "language": "python",
   "name": "python2"
  },
  "language_info": {
   "codemirror_mode": {
    "name": "ipython",
    "version": 2
   },
   "file_extension": ".py",
   "mimetype": "text/x-python",
   "name": "python",
   "nbconvert_exporter": "python",
   "pygments_lexer": "ipython2",
   "version": "2.7.12"
  }
 },
 "nbformat": 4,
 "nbformat_minor": 1
}
