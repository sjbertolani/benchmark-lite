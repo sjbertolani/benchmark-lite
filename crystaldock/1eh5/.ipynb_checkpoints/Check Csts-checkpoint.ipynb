{
 "cells": [
  {
   "cell_type": "code",
   "execution_count": 1,
   "metadata": {
    "collapsed": false
   },
   "outputs": [],
   "source": [
    "import pandas as pd\n",
    "import matplotlib.pyplot as plt\n",
    "%matplotlib inline"
   ]
  },
  {
   "cell_type": "code",
   "execution_count": 2,
   "metadata": {
    "collapsed": false
   },
   "outputs": [],
   "source": [
    "df = pd.read_csv('score.sc',header=0, sep='\\s+')\n",
    "#df['all_cst']"
   ]
  },
  {
   "cell_type": "code",
   "execution_count": 3,
   "metadata": {
    "collapsed": false
   },
   "outputs": [
    {
     "name": "stdout",
     "output_type": "stream",
     "text": [
      "['total_score', 'fa_rep', 'hbond_sc', 'all_cst', 'tot_pstat_pm', 'tot_nlpstat_pm', 'tot_burunsat_pm', 'tot_hbond_pm', 'tot_NLconts_pm', 'tot_nlsurfaceE_pm', 'tot_total_charge', 'tot_total_pos_charges', 'tot_total_neg_charges', 'tot_seq_recovery', 'SR_1', 'SR_1_total_score', 'SR_1_fa_rep', 'SR_1_hbond_sc', 'SR_1_all_cst', 'SR_1_hbond_pm', 'SR_1_burunsat_pm', 'SR_1_pstat_pm', 'SR_1_nlpstat_pm', 'SR_2', 'SR_2_total_score', 'SR_2_fa_rep', 'SR_2_hbond_sc', 'SR_2_all_cst', 'SR_2_hbond_pm', 'SR_2_burunsat_pm', 'SR_2_pstat_pm', 'SR_2_nlpstat_pm', 'SR_3', 'SR_3_total_score', 'SR_3_fa_rep', 'SR_3_hbond_sc', 'SR_3_all_cst', 'SR_3_hbond_pm', 'SR_3_burunsat_pm', 'SR_3_pstat_pm', 'SR_3_nlpstat_pm', 'SR_4', 'SR_4_total_score', 'SR_4_fa_rep', 'SR_4_hbond_sc', 'SR_4_all_cst', 'SR_4_interf_E_1_2', 'SR_4_dsasa_1_2', 'SR_4_hbond_pm', 'SR_4_burunsat_pm', 'Grid_score', 'Transform_accept_ratio', 'description']\n"
     ]
    },
    {
     "data": {
      "text/html": [
       "<div>\n",
       "<table border=\"1\" class=\"dataframe\">\n",
       "  <thead>\n",
       "    <tr style=\"text-align: right;\">\n",
       "      <th></th>\n",
       "      <th>all_cst</th>\n",
       "      <th>SR_1_all_cst</th>\n",
       "      <th>SR_2_all_cst</th>\n",
       "      <th>SR_3_all_cst</th>\n",
       "      <th>SR_4_all_cst</th>\n",
       "      <th>description</th>\n",
       "      <th>SR_4_all_cst</th>\n",
       "      <th>total_score</th>\n",
       "    </tr>\n",
       "  </thead>\n",
       "  <tbody>\n",
       "    <tr>\n",
       "      <th>0</th>\n",
       "      <td>0.0</td>\n",
       "      <td>77.77</td>\n",
       "      <td>77.77</td>\n",
       "      <td>13.77</td>\n",
       "      <td>64.00</td>\n",
       "      <td>1eh5.dock_0001</td>\n",
       "      <td>64.00</td>\n",
       "      <td>168.77</td>\n",
       "    </tr>\n",
       "    <tr>\n",
       "      <th>1</th>\n",
       "      <td>0.0</td>\n",
       "      <td>78.06</td>\n",
       "      <td>78.06</td>\n",
       "      <td>13.77</td>\n",
       "      <td>64.28</td>\n",
       "      <td>1eh5.dock_0002</td>\n",
       "      <td>64.28</td>\n",
       "      <td>162.94</td>\n",
       "    </tr>\n",
       "    <tr>\n",
       "      <th>2</th>\n",
       "      <td>0.0</td>\n",
       "      <td>75.37</td>\n",
       "      <td>75.37</td>\n",
       "      <td>13.77</td>\n",
       "      <td>61.60</td>\n",
       "      <td>1eh5.dock_0003</td>\n",
       "      <td>61.60</td>\n",
       "      <td>179.90</td>\n",
       "    </tr>\n",
       "    <tr>\n",
       "      <th>3</th>\n",
       "      <td>0.0</td>\n",
       "      <td>79.33</td>\n",
       "      <td>79.33</td>\n",
       "      <td>13.77</td>\n",
       "      <td>65.56</td>\n",
       "      <td>1eh5.dock_0004</td>\n",
       "      <td>65.56</td>\n",
       "      <td>177.07</td>\n",
       "    </tr>\n",
       "    <tr>\n",
       "      <th>4</th>\n",
       "      <td>0.0</td>\n",
       "      <td>93.94</td>\n",
       "      <td>93.94</td>\n",
       "      <td>13.77</td>\n",
       "      <td>80.16</td>\n",
       "      <td>1eh5.dock_0005</td>\n",
       "      <td>80.16</td>\n",
       "      <td>183.02</td>\n",
       "    </tr>\n",
       "  </tbody>\n",
       "</table>\n",
       "</div>"
      ],
      "text/plain": [
       "   all_cst  SR_1_all_cst  SR_2_all_cst  SR_3_all_cst  SR_4_all_cst  \\\n",
       "0      0.0         77.77         77.77         13.77         64.00   \n",
       "1      0.0         78.06         78.06         13.77         64.28   \n",
       "2      0.0         75.37         75.37         13.77         61.60   \n",
       "3      0.0         79.33         79.33         13.77         65.56   \n",
       "4      0.0         93.94         93.94         13.77         80.16   \n",
       "\n",
       "      description  SR_4_all_cst  total_score  \n",
       "0  1eh5.dock_0001         64.00       168.77  \n",
       "1  1eh5.dock_0002         64.28       162.94  \n",
       "2  1eh5.dock_0003         61.60       179.90  \n",
       "3  1eh5.dock_0004         65.56       177.07  \n",
       "4  1eh5.dock_0005         80.16       183.02  "
      ]
     },
     "execution_count": 3,
     "metadata": {},
     "output_type": "execute_result"
    }
   ],
   "source": [
    "print list(df)\n",
    "df[['all_cst','SR_1_all_cst','SR_2_all_cst','SR_3_all_cst','SR_4_all_cst','description','SR_4_all_cst','total_score']]"
   ]
  },
  {
   "cell_type": "code",
   "execution_count": null,
   "metadata": {
    "collapsed": true
   },
   "outputs": [],
   "source": []
  }
 ],
 "metadata": {
  "anaconda-cloud": {},
  "kernelspec": {
   "display_name": "Python [default]",
   "language": "python",
   "name": "python2"
  },
  "language_info": {
   "codemirror_mode": {
    "name": "ipython",
    "version": 2
   },
   "file_extension": ".py",
   "mimetype": "text/x-python",
   "name": "python",
   "nbconvert_exporter": "python",
   "pygments_lexer": "ipython2",
   "version": "2.7.12"
  }
 },
 "nbformat": 4,
 "nbformat_minor": 1
}
