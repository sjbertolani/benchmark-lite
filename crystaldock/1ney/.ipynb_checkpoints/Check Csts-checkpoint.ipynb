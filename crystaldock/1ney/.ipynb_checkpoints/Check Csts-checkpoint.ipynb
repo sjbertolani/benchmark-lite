{
 "cells": [
  {
   "cell_type": "code",
   "execution_count": 1,
   "metadata": {
    "collapsed": false
   },
   "outputs": [],
   "source": [
    "import pandas as pd\n",
    "import matplotlib.pyplot as plt\n",
    "%matplotlib inline"
   ]
  },
  {
   "cell_type": "code",
   "execution_count": 2,
   "metadata": {
    "collapsed": false
   },
   "outputs": [],
   "source": [
    "df = pd.read_csv('score.sc',header=0, sep='\\s+')\n",
    "#df['all_cst']"
   ]
  },
  {
   "cell_type": "code",
   "execution_count": 6,
   "metadata": {
    "collapsed": false
   },
   "outputs": [
    {
     "name": "stdout",
     "output_type": "stream",
     "text": [
      "['total_score', 'fa_rep', 'hbond_sc', 'all_cst', 'tot_pstat_pm', 'tot_nlpstat_pm', 'tot_burunsat_pm', 'tot_hbond_pm', 'tot_NLconts_pm', 'tot_nlsurfaceE_pm', 'tot_total_charge', 'tot_total_pos_charges', 'tot_total_neg_charges', 'tot_seq_recovery', 'SR_1', 'SR_1_total_score', 'SR_1_fa_rep', 'SR_1_hbond_sc', 'SR_1_all_cst', 'SR_1_hbond_pm', 'SR_1_burunsat_pm', 'SR_1_pstat_pm', 'SR_1_nlpstat_pm', 'SR_2', 'SR_2_total_score', 'SR_2_fa_rep', 'SR_2_hbond_sc', 'SR_2_all_cst', 'SR_2_hbond_pm', 'SR_2_burunsat_pm', 'SR_2_pstat_pm', 'SR_2_nlpstat_pm', 'SR_3', 'SR_3_total_score', 'SR_3_fa_rep', 'SR_3_hbond_sc', 'SR_3_all_cst', 'SR_3_interf_E_1_2', 'SR_3_dsasa_1_2', 'SR_3_hbond_pm', 'SR_3_burunsat_pm', 'Grid_score', 'Transform_accept_ratio', 'description']\n"
     ]
    },
    {
     "data": {
      "text/html": [
       "<div>\n",
       "<table border=\"1\" class=\"dataframe\">\n",
       "  <thead>\n",
       "    <tr style=\"text-align: right;\">\n",
       "      <th></th>\n",
       "      <th>all_cst</th>\n",
       "      <th>SR_1_all_cst</th>\n",
       "      <th>SR_2_all_cst</th>\n",
       "      <th>SR_3_all_cst</th>\n",
       "      <th>description</th>\n",
       "    </tr>\n",
       "  </thead>\n",
       "  <tbody>\n",
       "    <tr>\n",
       "      <th>0</th>\n",
       "      <td>0.0</td>\n",
       "      <td>0.0</td>\n",
       "      <td>0.02</td>\n",
       "      <td>0.02</td>\n",
       "      <td>1ney.dock_0001</td>\n",
       "    </tr>\n",
       "    <tr>\n",
       "      <th>1</th>\n",
       "      <td>0.0</td>\n",
       "      <td>0.0</td>\n",
       "      <td>3.00</td>\n",
       "      <td>3.00</td>\n",
       "      <td>1ney.dock_0002</td>\n",
       "    </tr>\n",
       "    <tr>\n",
       "      <th>2</th>\n",
       "      <td>0.0</td>\n",
       "      <td>0.0</td>\n",
       "      <td>2.31</td>\n",
       "      <td>2.31</td>\n",
       "      <td>1ney.dock_0003</td>\n",
       "    </tr>\n",
       "    <tr>\n",
       "      <th>3</th>\n",
       "      <td>0.0</td>\n",
       "      <td>0.0</td>\n",
       "      <td>3.10</td>\n",
       "      <td>3.10</td>\n",
       "      <td>1ney.dock_0004</td>\n",
       "    </tr>\n",
       "    <tr>\n",
       "      <th>4</th>\n",
       "      <td>0.0</td>\n",
       "      <td>0.0</td>\n",
       "      <td>2.53</td>\n",
       "      <td>2.53</td>\n",
       "      <td>1ney.dock_0005</td>\n",
       "    </tr>\n",
       "  </tbody>\n",
       "</table>\n",
       "</div>"
      ],
      "text/plain": [
       "   all_cst  SR_1_all_cst  SR_2_all_cst  SR_3_all_cst     description\n",
       "0      0.0           0.0          0.02          0.02  1ney.dock_0001\n",
       "1      0.0           0.0          3.00          3.00  1ney.dock_0002\n",
       "2      0.0           0.0          2.31          2.31  1ney.dock_0003\n",
       "3      0.0           0.0          3.10          3.10  1ney.dock_0004\n",
       "4      0.0           0.0          2.53          2.53  1ney.dock_0005"
      ]
     },
     "execution_count": 6,
     "metadata": {},
     "output_type": "execute_result"
    }
   ],
   "source": [
    "print list(df)\n",
    "df[['all_cst','SR_1_all_cst','SR_2_all_cst','SR_3_all_cst','description']]"
   ]
  },
  {
   "cell_type": "code",
   "execution_count": null,
   "metadata": {
    "collapsed": true
   },
   "outputs": [],
   "source": []
  }
 ],
 "metadata": {
  "anaconda-cloud": {},
  "kernelspec": {
   "display_name": "Python [default]",
   "language": "python",
   "name": "python2"
  },
  "language_info": {
   "codemirror_mode": {
    "name": "ipython",
    "version": 2
   },
   "file_extension": ".py",
   "mimetype": "text/x-python",
   "name": "python",
   "nbconvert_exporter": "python",
   "pygments_lexer": "ipython2",
   "version": "2.7.12"
  }
 },
 "nbformat": 4,
 "nbformat_minor": 1
}
