{
 "cells": [
  {
   "cell_type": "code",
   "execution_count": 1,
   "metadata": {
    "collapsed": false
   },
   "outputs": [],
   "source": [
    "import pandas as pd\n",
    "import matplotlib.pyplot as plt\n",
    "%matplotlib inline"
   ]
  },
  {
   "cell_type": "code",
   "execution_count": 2,
   "metadata": {
    "collapsed": false
   },
   "outputs": [
    {
     "name": "stdout",
     "output_type": "stream",
     "text": [
      "['total_score', 'fa_rep', 'hbond_sc', 'all_cst', 'tot_pstat_pm', 'tot_nlpstat_pm', 'tot_burunsat_pm', 'tot_hbond_pm', 'tot_NLconts_pm', 'tot_nlsurfaceE_pm', 'tot_total_charge', 'tot_total_pos_charges', 'tot_total_neg_charges', 'tot_seq_recovery', 'SR_1', 'SR_1_total_score', 'SR_1_fa_rep', 'SR_1_hbond_sc', 'SR_1_all_cst', 'SR_1_hbond_pm', 'SR_1_burunsat_pm', 'SR_1_pstat_pm', 'SR_1_nlpstat_pm', 'SR_2', 'SR_2_total_score', 'SR_2_fa_rep', 'SR_2_hbond_sc', 'SR_2_all_cst', 'SR_2_hbond_pm', 'SR_2_burunsat_pm', 'SR_2_pstat_pm', 'SR_2_nlpstat_pm', 'SR_3', 'SR_3_total_score', 'SR_3_fa_rep', 'SR_3_hbond_sc', 'SR_3_all_cst', 'SR_3_hbond_pm', 'SR_3_burunsat_pm', 'SR_3_pstat_pm', 'SR_3_nlpstat_pm', 'SR_4', 'SR_4_total_score', 'SR_4_fa_rep', 'SR_4_hbond_sc', 'SR_4_all_cst', 'SR_4_interf_E_1_2', 'SR_4_dsasa_1_2', 'SR_4_hbond_pm', 'SR_4_burunsat_pm', 'Transform_accept_ratio', 'allcst', 'description']\n"
     ]
    }
   ],
   "source": [
    "df = pd.read_csv('score.sc',header=0, sep='\\s+')\n",
    "print list(df)"
   ]
  },
  {
   "cell_type": "code",
   "execution_count": 3,
   "metadata": {
    "collapsed": false
   },
   "outputs": [
    {
     "data": {
      "text/html": [
       "<div>\n",
       "<table border=\"1\" class=\"dataframe\">\n",
       "  <thead>\n",
       "    <tr style=\"text-align: right;\">\n",
       "      <th></th>\n",
       "      <th>description</th>\n",
       "      <th>allcst</th>\n",
       "      <th>total_score</th>\n",
       "      <th>SR_4_interf_E_1_2</th>\n",
       "    </tr>\n",
       "  </thead>\n",
       "  <tbody>\n",
       "    <tr>\n",
       "      <th>4</th>\n",
       "      <td>1oif.dock_0005</td>\n",
       "      <td>0.24</td>\n",
       "      <td>-105.03</td>\n",
       "      <td>-6.02</td>\n",
       "    </tr>\n",
       "    <tr>\n",
       "      <th>8</th>\n",
       "      <td>1oif.dock_0009</td>\n",
       "      <td>0.40</td>\n",
       "      <td>-129.71</td>\n",
       "      <td>-4.85</td>\n",
       "    </tr>\n",
       "    <tr>\n",
       "      <th>3</th>\n",
       "      <td>1oif.dock_0004</td>\n",
       "      <td>1.95</td>\n",
       "      <td>-95.07</td>\n",
       "      <td>-4.47</td>\n",
       "    </tr>\n",
       "    <tr>\n",
       "      <th>6</th>\n",
       "      <td>1oif.dock_0007</td>\n",
       "      <td>0.17</td>\n",
       "      <td>-126.15</td>\n",
       "      <td>-2.50</td>\n",
       "    </tr>\n",
       "    <tr>\n",
       "      <th>0</th>\n",
       "      <td>1oif.dock_0001</td>\n",
       "      <td>0.31</td>\n",
       "      <td>-125.16</td>\n",
       "      <td>-1.86</td>\n",
       "    </tr>\n",
       "    <tr>\n",
       "      <th>7</th>\n",
       "      <td>1oif.dock_0008</td>\n",
       "      <td>2.38</td>\n",
       "      <td>-112.04</td>\n",
       "      <td>-1.08</td>\n",
       "    </tr>\n",
       "  </tbody>\n",
       "</table>\n",
       "</div>"
      ],
      "text/plain": [
       "      description  allcst  total_score  SR_4_interf_E_1_2\n",
       "4  1oif.dock_0005    0.24      -105.03              -6.02\n",
       "8  1oif.dock_0009    0.40      -129.71              -4.85\n",
       "3  1oif.dock_0004    1.95       -95.07              -4.47\n",
       "6  1oif.dock_0007    0.17      -126.15              -2.50\n",
       "0  1oif.dock_0001    0.31      -125.16              -1.86\n",
       "7  1oif.dock_0008    2.38      -112.04              -1.08"
      ]
     },
     "execution_count": 3,
     "metadata": {},
     "output_type": "execute_result"
    }
   ],
   "source": [
    "interfcst = 'SR_4_interf_E_1_2'\n",
    "cst_filtered = df[ df.allcst < 5 ]\n",
    "lowetotalscore = cst_filtered.sort_values('total_score').head(10)\n",
    "lowetotalscore.sort_values(interfcst)[['description','allcst','total_score',interfcst]]"
   ]
  },
  {
   "cell_type": "code",
   "execution_count": null,
   "metadata": {
    "collapsed": true
   },
   "outputs": [],
   "source": []
  }
 ],
 "metadata": {
  "anaconda-cloud": {},
  "kernelspec": {
   "display_name": "Python [default]",
   "language": "python",
   "name": "python2"
  },
  "language_info": {
   "codemirror_mode": {
    "name": "ipython",
    "version": 2
   },
   "file_extension": ".py",
   "mimetype": "text/x-python",
   "name": "python",
   "nbconvert_exporter": "python",
   "pygments_lexer": "ipython2",
   "version": "2.7.14"
  }
 },
 "nbformat": 4,
 "nbformat_minor": 1
}
