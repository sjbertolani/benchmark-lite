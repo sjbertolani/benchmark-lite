{
 "cells": [
  {
   "cell_type": "markdown",
   "metadata": {},
   "source": [
    "Need to \n",
    "\n",
    "1) remove the Hydrogen 9 and H11 then edit th params"
   ]
  },
  {
   "cell_type": "code",
   "execution_count": 3,
   "metadata": {
    "collapsed": true
   },
   "outputs": [],
   "source": [
    "with open('newconfs/1jcl_conf2_tobe_edited.mol2','r') as fh, open('newconfs/1jc_edit_confs.mol2','w') as gh:\n",
    "    for line in fh:\n",
    "        edit = False\n",
    "    \n",
    "        if line.startswith('24 23'):\n",
    "            line = line.replace('24 23','22 21')\n",
    "            gh.write(line)\n",
    "            edit = True\n",
    "    \n",
    "    # remove atom\n",
    "        if line.startswith('   20   H20'):  #marker for the last line\n",
    "            edit = True\n",
    "\n",
    "        if line.startswith('   24   H24'):  #marker for the last line\n",
    "            edit = True\n",
    "\n",
    "        if line.startswith('   19     20     21    1'):\n",
    "            edit = True\n",
    "\n",
    "        if line.startswith('   22     23     24    1'):\n",
    "            edit = True\n",
    "    # renumber atoms\n",
    "            #   21   C21\n",
    "        if line.startswith('   21   C21'):\n",
    "            line = line.replace('21','20')\n",
    "            gh.write(line)\n",
    "            edit = True\n",
    "\n",
    "        if line.startswith('   22   H22'):\n",
    "            line = line.replace('22','21')\n",
    "            gh.write(line)\n",
    "            edit = True\n",
    "\n",
    "        if line.startswith('   23   O23'):\n",
    "            line = line.replace('23','22')\n",
    "            gh.write(line)\n",
    "            edit = True\n",
    "\n",
    "        \n",
    "        \n",
    "            ## renumber bonds\n",
    "        if line.startswith('   20     21     22    1'):\n",
    "            line = line.replace('   20     21     22    1','   19     20     21    1')\n",
    "            gh.write(line)\n",
    "            edit = True\n",
    "\n",
    "        if line.startswith('   21      6     21    1'):\n",
    "            line = line.replace('   21      6     21    1','   20      6     20    1')\n",
    "            gh.write(line)\n",
    "            edit = True\n",
    "\n",
    "        if line.startswith('   23     21     23    1'):\n",
    "            line = line.replace('   23     21     23    1','   21     20     22    1')\n",
    "            gh.write(line)\n",
    "            edit = True\n",
    "        \n",
    "        if edit == False:\n",
    "            gh.write(line)"
   ]
  },
  {
   "cell_type": "code",
   "execution_count": null,
   "metadata": {
    "collapsed": true
   },
   "outputs": [],
   "source": []
  }
 ],
 "metadata": {
  "anaconda-cloud": {},
  "kernelspec": {
   "display_name": "Python [default]",
   "language": "python",
   "name": "python2"
  },
  "language_info": {
   "codemirror_mode": {
    "name": "ipython",
    "version": 2
   },
   "file_extension": ".py",
   "mimetype": "text/x-python",
   "name": "python",
   "nbconvert_exporter": "python",
   "pygments_lexer": "ipython2",
   "version": "2.7.14"
  }
 },
 "nbformat": 4,
 "nbformat_minor": 0
}
