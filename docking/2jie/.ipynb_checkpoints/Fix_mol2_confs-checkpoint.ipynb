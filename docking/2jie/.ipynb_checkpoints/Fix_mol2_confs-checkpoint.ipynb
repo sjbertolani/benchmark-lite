{
 "cells": [
  {
   "cell_type": "markdown",
   "metadata": {},
   "source": [
    "Need to \n",
    "\n",
    "1) remove the Hydrogen 7\n",
    "\n",
    "2) remove the bond to it"
   ]
  },
  {
   "cell_type": "code",
   "execution_count": 1,
   "metadata": {
    "collapsed": true
   },
   "outputs": [],
   "source": [
    "with open('2ji_conformers.pdb','r') as fh, open('2jie_edit_confs.pdb','w') as gh:\n",
    "    for line in fh:\n",
    "        edit = False\n",
    "        # Edit the line that specifies the number of atoms and bonds\n",
    "        # here we are deleted 1 atom (h) and 1 bond (h to carbon)\n",
    "        if ' H7 ' in line:\n",
    "#            gh.write('35 34\\n')\n",
    "            edit = True\n",
    "            \n",
    "        \n",
    "        if edit == False:\n",
    "            gh.write(line)"
   ]
  },
  {
   "cell_type": "code",
   "execution_count": null,
   "metadata": {
    "collapsed": true
   },
   "outputs": [],
   "source": []
  }
 ],
 "metadata": {
  "anaconda-cloud": {},
  "kernelspec": {
   "display_name": "Python [default]",
   "language": "python",
   "name": "python2"
  },
  "language_info": {
   "codemirror_mode": {
    "name": "ipython",
    "version": 2
   },
   "file_extension": ".py",
   "mimetype": "text/x-python",
   "name": "python",
   "nbconvert_exporter": "python",
   "pygments_lexer": "ipython2",
   "version": "2.7.14"
  }
 },
 "nbformat": 4,
 "nbformat_minor": 0
}
