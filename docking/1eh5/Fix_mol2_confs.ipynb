{
 "cells": [
  {
   "cell_type": "markdown",
   "metadata": {},
   "source": [
    "Need to \n",
    "\n",
    "1) remove the Hydrogen 19\n"
   ]
  },
  {
   "cell_type": "code",
   "execution_count": 1,
   "metadata": {
    "collapsed": true
   },
   "outputs": [],
   "source": [
    "with open('1eh_conformers.pdb','r') as fh, open('1eh_confs_edit.pdb','w') as gh:\n",
    "    for line in fh:\n",
    "        edit = False\n",
    "        # Edit the line that specifies the number of atoms and bonds\n",
    "        # here we are deleted 1 atom (h) and 1 bond (h to carbon)\n",
    "        if 'H19' in line:\n",
    "#            gh.write('51 51\\n')\n",
    "            edit = True\n",
    "                    \n",
    "        if edit == False:\n",
    "            gh.write(line)"
   ]
  },
  {
   "cell_type": "code",
   "execution_count": null,
   "metadata": {
    "collapsed": true
   },
   "outputs": [],
   "source": []
  }
 ],
 "metadata": {
  "anaconda-cloud": {},
  "kernelspec": {
   "display_name": "Python [default]",
   "language": "python",
   "name": "python2"
  },
  "language_info": {
   "codemirror_mode": {
    "name": "ipython",
    "version": 2
   },
   "file_extension": ".py",
   "mimetype": "text/x-python",
   "name": "python",
   "nbconvert_exporter": "python",
   "pygments_lexer": "ipython2",
   "version": "2.7.14"
  }
 },
 "nbformat": 4,
 "nbformat_minor": 0
}
